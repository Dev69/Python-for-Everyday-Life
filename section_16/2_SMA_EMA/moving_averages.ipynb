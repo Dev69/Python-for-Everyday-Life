{
 "cells": [
  {
   "cell_type": "code",
   "execution_count": null,
   "metadata": {
    "collapsed": true
   },
   "outputs": [],
   "source": [
    "import matplotlib.pyplot as plt\n",
    "import matplotlib.dates as pltdates\n",
    "import numpy as np\n",
    "import pandas as pd\n",
    "import pathlib\n",
    "\n",
    "# This tells Jupyter not to autoreload code changes on the notebook from disk\n",
    "%load_ext autoreload\n",
    "%autoreload 0\n",
    "\n",
    "# this tells Jupyter to plot inline\n",
    "%matplotlib inline"
   ]
  },
  {
   "cell_type": "code",
   "execution_count": null,
   "metadata": {},
   "outputs": [],
   "source": [
    "## PLOT: SMA on 3, 15 and 50 days for BTC-USD price"
   ]
  },
  {
   "cell_type": "code",
   "execution_count": null,
   "metadata": {},
   "outputs": [],
   "source": [
    "# first, load data from CSV\n",
    "btc_csv = pathlib.Path('../datasets/BTC-USD.csv').absolute()\n",
    "btc = pd.read_csv(btc_csv, index_col=0, parse_dates=True)"
   ]
  },
  {
   "cell_type": "code",
   "execution_count": null,
   "metadata": {},
   "outputs": [],
   "source": [
    "# Calculate SMAs\n",
    "sma_3 = btc.rolling(window=3).mean()\n",
    "sma_15 = btc.rolling(window=15).mean()\n",
    "sma_50 = btc.rolling(window=50).mean()"
   ]
  },
  {
   "cell_type": "code",
   "execution_count": 2,
   "metadata": {},
   "outputs": [],
   "source": [
    "# Plot price and SMAs\n",
    "fig_1 = plt.figure(figsize=(15, 9))\n",
    "\n",
    "# we will stack multiple line plots on the same figure\n",
    "axes = fig_1.add_subplot(1, 1, 1)\n",
    "\n",
    "axes.plot(btc.index, btc['close'], label='BTC close price')\n",
    "axes.plot(sma_3.index, sma_3['close'], label = '3-days Simple MA')\n",
    "axes.plot(sma_3.index, sma_15['close'], label = '15-days Simple MA')\n",
    "axes.plot(sma_3.index, sma_50['close'], label = '50-days Simple MA')\n",
    "\n",
    "# Legend, Y-axis labels and X-axis ticker formats\n",
    "axes.legend(loc='best')\n",
    "axes.set_ylabel('Price [$]')\n",
    "axes.xaxis.set_major_formatter(pltdates.DateFormatter('%m/%y'))"
   ]
  },
  {
   "cell_type": "code",
   "execution_count": 3,
   "metadata": {},
   "outputs": [],
   "source": [
    "## PLOT: EMA on 3, 15 and 50 days for BTC-USD price"
   ]
  },
  {
   "cell_type": "code",
   "execution_count": 3,
   "metadata": {},
   "outputs": [],
   "source": [
    "# Calculate SMAs\n",
    "ema_3 = btc.ewm(span=3).mean()\n",
    "ema_15 = btc.ewm(span=15).mean()\n",
    "ema_50 = btc.ewm(span=50).mean()"
   ]
  },
  {
   "cell_type": "code",
   "execution_count": null,
   "metadata": {},
   "outputs": [],
   "source": [
    "# Plot price and EMAs\n",
    "fig_2 = plt.figure(figsize=(15, 9))\n",
    "\n",
    "# we will stack multiple line plots on the same figure\n",
    "axes = fig_2.add_subplot(1, 1, 1)\n",
    "\n",
    "axes.plot(btc.index, btc['close'], label='BTC close price')\n",
    "axes.plot(sma_3.index, ema_3['close'], label = '3-days Exp MA')\n",
    "axes.plot(sma_3.index, ema_15['close'], label = '15-days Exp MA')\n",
    "axes.plot(sma_3.index, ema_50['close'], label = '50-days Exp MA')\n",
    "\n",
    "# Legend, Y-axis labels and X-axis ticker formats\n",
    "axes.legend(loc='best')\n",
    "axes.set_ylabel('Price [$]')\n",
    "axes.xaxis.set_major_formatter(pltdates.DateFormatter('%m/%y'))\n"
   ]
  },
  {
   "cell_type": "code",
   "execution_count": null,
   "metadata": {},
   "outputs": [],
   "source": [
    "## PLOT: compare Simple and Exponential Moving Averages"
   ]
  },
  {
   "cell_type": "code",
   "execution_count": null,
   "metadata": {},
   "outputs": [],
   "source": [
    "# Plot price and SMAs and EMAs\n",
    "fig_3 = plt.figure(figsize=(15, 9))\n",
    "\n",
    "# we will stack multiple line plots on the same figure\n",
    "axes = fig_3.add_subplot(1, 1, 1)\n",
    "\n",
    "axes.plot(btc.index, btc['close'], label='BTC close price')\n",
    "axes.plot(sma_3.index, sma_15['close'], label = '15-days Simple MA')\n",
    "axes.plot(sma_3.index, ema_15['close'], label = '15-days Exp MA')\n",
    "\n",
    "# Legend, Y-axis labels and X-axis ticker formats\n",
    "axes.legend(loc='best')\n",
    "axes.set_ylabel('Price [$]')\n",
    "axes.xaxis.set_major_formatter(pltdates.DateFormatter('%m/%y'))"
   ]
  },
  {
   "cell_type": "code",
   "execution_count": null,
   "metadata": {},
   "outputs": [],
   "source": [
    "## PLOT: which of SMA and EMA best models price?"
   ]
  },
  {
   "cell_type": "code",
   "execution_count": null,
   "metadata": {},
   "outputs": [],
   "source": [
    "# Let's calculate the distances between price and MAs and then compare them\n",
    "sma_15_price_diff = np.absolute(btc['close'] - sma_15['close'])\n",
    "ema_15_price_diff = np.absolute(btc['close'] - ema_15['close'])"
   ]
  },
  {
   "cell_type": "code",
   "execution_count": null,
   "metadata": {},
   "outputs": [],
   "source": [
    "# Plot price and MA absolute difference\n",
    "fig_4 = plt.figure(figsize=(15, 9))\n",
    "\n",
    "# we will stack multiple line plots on the same figure\n",
    "axes = fig_4.add_subplot(1, 1, 1)\n",
    "\n",
    "axes.plot(btc.index, btc['close'], label='BTC close price')\n",
    "axes.plot(sma_15_price_diff.index, sma_15_price_diff, label = '15-days SMA abs diff with price')\n",
    "axes.plot(ema_15_price_diff.index, ema_15_price_diff, label = '15-days EMA abs diff with price')\n",
    "\n",
    "\n",
    "# Legend, Y-axis labels and X-axis ticker formats\n",
    "axes.legend(loc='best')\n",
    "axes.set_ylabel('Price [$]')\n",
    "axes.xaxis.set_major_formatter(pltdates.DateFormatter('%m/%y'))"
   ]
  },
  {
   "cell_type": "code",
   "execution_count": null,
   "metadata": {},
   "outputs": [],
   "source": [
    "## SAVE MAs to CSV FILES"
   ]
  },
  {
   "cell_type": "code",
   "execution_count": null,
   "metadata": {},
   "outputs": [],
   "source": [
    "datasets_folder = pathlib.Path('../datasets')\n",
    "if not datasets_folder.exists():\n",
    "    datasets_folder.mkdir()\n",
    "mas_btc_csv = datasets_folder / pathlib.Path('moving_averages_BTC.csv')\n",
    "mas_btc_csv.touch()\n",
    "mas_df = pd.DataFrame({\n",
    "    'day': btc.index,\n",
    "    'sma_3': sma_3['close'],\n",
    "    'sma_15': sma_15['close'],\n",
    "    'sma_50': sma_50['close'],\n",
    "    'ema_3': ema_3['close'],\n",
    "    'ema_15': ema_15['close'],\n",
    "    'ema_50': ema_50['close']\n",
    "})\n",
    "mas_df.set_index('day', inplace=True)\n",
    "mas_df.to_csv(mas_btc_csv, index_label='day')"
   ]
  }
 ],
 "metadata": {
  "kernelspec": {
   "display_name": "Python 2",
   "language": "python",
   "name": "python2"
  },
  "language_info": {
   "codemirror_mode": {
    "name": "ipython",
    "version": 2
   },
   "file_extension": ".py",
   "mimetype": "text/x-python",
   "name": "python",
   "nbconvert_exporter": "python",
   "pygments_lexer": "ipython2",
   "version": "2.7.6"
  }
 },
 "nbformat": 4,
 "nbformat_minor": 0
}
