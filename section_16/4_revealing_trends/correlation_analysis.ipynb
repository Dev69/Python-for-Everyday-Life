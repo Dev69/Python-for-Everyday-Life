{
 "cells": [
  {
   "cell_type": "code",
   "execution_count": null,
   "metadata": {},
   "outputs": [],
   "source": [
    "import matplotlib.pyplot as plt\n",
    "import matplotlib.dates as pltdates\n",
    "import matplotlib.cm as cm\n",
    "import pandas as pd\n",
    "import numpy as np\n",
    "import pathlib\n",
    "\n",
    "# This tells Jupyter not to autoreload code changes on the notebook from disk\n",
    "%load_ext autoreload\n",
    "%autoreload 0\n",
    "\n",
    "# this tells Jupyter to plot inline\n",
    "%matplotlib inline"
   ]
  },
  {
   "cell_type": "code",
   "execution_count": null,
   "metadata": {},
   "outputs": [],
   "source": [
    "# read data from csv files\n",
    "btc = pd.read_csv(pathlib.Path('../datasets/BTC-USD.csv').absolute(), index_col=0, parse_dates=True)\n",
    "dash = pd.read_csv(pathlib.Path('../datasets/DASH-USD.csv').absolute(), index_col=0, parse_dates=True)\n",
    "etc = pd.read_csv(pathlib.Path('../datasets/ETC-USD.csv').absolute(), index_col=0, parse_dates=True)\n",
    "eth = pd.read_csv(pathlib.Path('../datasets/ETH-USD.csv').absolute(), index_col=0, parse_dates=True)\n",
    "lsk = pd.read_csv(pathlib.Path('../datasets/LSK-USD.csv').absolute(), index_col=0, parse_dates=True)\n",
    "ltc = pd.read_csv(pathlib.Path('../datasets/LTC-USD.csv').absolute(), index_col=0, parse_dates=True)\n",
    "nxt = pd.read_csv(pathlib.Path('../datasets/NXT-USD.csv').absolute(), index_col=0, parse_dates=True)\n",
    "pot = pd.read_csv(pathlib.Path('../datasets/POT-USD.csv').absolute(), index_col=0, parse_dates=True)\n",
    "xem = pd.read_csv(pathlib.Path('../datasets/XEM-USD.csv').absolute(), index_col=0, parse_dates=True)\n",
    "xmr = pd.read_csv(pathlib.Path('../datasets/XMR-USD.csv').absolute(), index_col=0, parse_dates=True)\n",
    "xrp = pd.read_csv(pathlib.Path('../datasets/XRP-USD.csv').absolute(), index_col=0, parse_dates=True)\n",
    "\n",
    "# combine data into a single DF\n",
    "coins = pd.DataFrame({\n",
    "    'day': btc.index,\n",
    "    'btc': btc['close'],\n",
    "    'dash': dash['close'],\n",
    "    'etc': etc['close'],\n",
    "    'eth': eth['close'],\n",
    "    'lsk': lsk['close'],\n",
    "    'ltc': ltc['close'],\n",
    "    'nxt': nxt['close'],\n",
    "    'pot': pot['close'],\n",
    "    'xem': xem['close'],\n",
    "    'xmr': xmr['close'],\n",
    "    'xrp': xrp['close']\n",
    "})\n",
    "coins.set_index('day', inplace=True)"
   ]
  },
  {
   "cell_type": "code",
   "execution_count": null,
   "metadata": {},
   "outputs": [],
   "source": [
    "# we will use log percent returns instead of prices, as percent returns \n",
    "# are a normalized metric (they live between 0 and 1)\n",
    "coins_log_returns = np.log(1 + coins.pct_change())"
   ]
  },
  {
   "cell_type": "code",
   "execution_count": null,
   "metadata": {},
   "outputs": [],
   "source": [
    "# calculate the correlation matrix\n",
    "corr_matrix = coins_log_returns.corr(method='pearson')\n",
    "corr_matrix"
   ]
  },
  {
   "cell_type": "code",
   "execution_count": 95,
   "metadata": {},
   "outputs": [],
   "source": [
    "# Plot it\n",
    "def plot_correlation_matrix(corr_matrix, plot_title):\n",
    "    fig_1 = plt.figure()\n",
    "    fig_1.set_size_inches(8, 8)\n",
    "    axis = fig_1.add_subplot(1, 1, 1)\n",
    "\n",
    "    color_map = cm.get_cmap('magma', 50)  # load a colormap\n",
    "\n",
    "    # get a plotted image \n",
    "    axis_img = axis.imshow(corr_matrix, interpolation=\"nearest\", cmap=color_map)\n",
    "\n",
    "    # set coin names on as axis ticks\n",
    "    coin_names = [name.upper() for name in list(corr_matrix.index)]\n",
    "    axis.set_xticks(np.arange(0,corr_matrix.shape[0], corr_matrix.shape[0]*1./len(coin_names)))\n",
    "    axis.set_yticks(np.arange(0,corr_matrix.shape[1], corr_matrix.shape[1]*1./len(coin_names)))\n",
    "    axis.set_xticklabels(coin_names, fontsize=16, rotation=70)\n",
    "    axis.set_yticklabels(coin_names, fontsize=16)\n",
    "\n",
    "    fig_1.colorbar(axis_img)  # Add colorbar legenda\n",
    "\n",
    "    plt.title(plot_title)  # plot title\n",
    "\n",
    "    plt.show()\n",
    "\n",
    "plot_correlation_matrix(corr_matrix, 'Correlation matrix on crypto log returns \\n [full timescale]')"
   ]
  },
  {
   "cell_type": "code",
   "execution_count": 110,
   "metadata": {},
   "outputs": [],
   "source": [
    "# what happens if we calculate the same matrix on a different time scale?\n",
    "# eg. from 2017-11-01 to 2017-12-01\n",
    "BOX_START = '2017-11-01'\n",
    "BOX_END = '2017-12-01'\n",
    "coins_boxed = coins[BOX_START:BOX_END]\n",
    "coins_boxed_log_returns = np.log(1 + coins_boxed.pct_change())\n",
    "corr_matrix = coins_boxed_log_returns.corr(method='pearson')\n",
    "corr_matrix"
   ]
  },
  {
   "cell_type": "code",
   "execution_count": 111,
   "metadata": {},
   "outputs": [],
   "source": [
    "# let's plot it\n",
    "plot_correlation_matrix(corr_matrix, 'Correlation matrix on crypto log returns \\n [2017-11-01, 2017-12-01]')"
   ]
  },
  {
   "cell_type": "code",
   "execution_count": 112,
   "metadata": {},
   "outputs": [],
   "source": [
    "# And again, from 2017-12-25 to 2018-01-01\n",
    "BOX_START = '2017-12-25'\n",
    "BOX_END = '2018-01-01'\n",
    "coins_boxed = coins[BOX_START:BOX_END]\n",
    "coins_boxed_log_returns = np.log(1 + coins_boxed.pct_change())\n",
    "corr_matrix = coins_boxed_log_returns.corr(method='pearson')\n",
    "corr_matrix"
   ]
  },
  {
   "cell_type": "code",
   "execution_count": 118,
   "metadata": {},
   "outputs": [],
   "source": [
    "# let's plot it\n",
    "plot_correlation_matrix(corr_matrix, 'Correlation matrix on crypto log returns \\n [2017-12-25, 2018-01-01]')"
   ]
  },
  {
   "cell_type": "code",
   "execution_count": 120,
   "metadata": {},
   "outputs": [],
   "source": [
    "# woohaa! Looks like there is a high correlation among a subset of the coins!\n",
    "# let's check out by plotting the log returns for those coins\n",
    "fig_3 = plt.figure(figsize=(8, 8))\n",
    "axes = fig_3.add_subplot(1, 1, 1)\n",
    "axes.plot(coins_boxed.index, coins_boxed_log_returns['btc'], label='BTC log returns')\n",
    "axes.plot(coins_boxed.index, coins_boxed_log_returns['dash'], label='DASH log returns')\n",
    "axes.plot(coins_boxed.index, coins_boxed_log_returns['etc'], label='ETC log returns')\n",
    "axes.plot(coins_boxed.index, coins_boxed_log_returns['eth'], label='ETH log returns')\n",
    "axes.plot(coins_boxed.index, coins_boxed_log_returns['lsk'], label='LSK log returns')\n",
    "axes.plot(coins_boxed.index, coins_boxed_log_returns['ltc'], label='LTC log returns')\n",
    "\n",
    "axes.legend(loc='best')\n",
    "axes.grid(True)\n",
    "axes.set_title('Log returns for highly-correlated coins \\n [2017-12-25, 2018-01-01]')\n",
    "axes.set_ylabel('Price [$]')\n",
    "axes.set_xticklabels(axes.get_xticklabels(), rotation=45)\n",
    "axes.xaxis.set_major_formatter(pltdates.DateFormatter('%Y-%m-%d'))"
   ]
  },
  {
   "cell_type": "code",
   "execution_count": 121,
   "metadata": {},
   "outputs": [],
   "source": [
    "## STUDY CASE: would a portfolio composed by BTC, ETH and LTC be a good investment over time? \n",
    "## Let's find out, on a monthly basis"
   ]
  },
  {
   "cell_type": "code",
   "execution_count": 160,
   "metadata": {},
   "outputs": [],
   "source": [
    "# this gives a DataFrame with the \"rolling\" correlation matrix,\n",
    "# calculated on 30-days sliding windows\n",
    "coins_log_returns = np.log(1 + coins[['btc','ltc', 'eth']].pct_change())\n",
    "rolling_corr_matrices = coins_log_returns.rolling(window=30).corr(\n",
    "    pairwise=True, other=coins_log_returns)\n",
    "rolling_corr_matrices"
   ]
  },
  {
   "cell_type": "code",
   "execution_count": 169,
   "metadata": {},
   "outputs": [],
   "source": [
    "# unstack the multi-index dataframe, so it's easier to handle\n",
    "unstacked_df = rolling_corr_matrices.unstack(level=-1)\n",
    "\n",
    "# let's plot how correlation coefficients vary over time\n",
    "fig_4 = plt.figure(figsize=(15, 9))\n",
    "axes = fig_4.add_subplot(1, 1, 1)\n",
    "axes.plot(unstacked_df.index, unstacked_df['btc']['ltc'], label = 'BTC-LTC log returns correlation')\n",
    "axes.plot(unstacked_df.index, unstacked_df['btc']['eth'], label = 'BTC-ETH log returns correlation')\n",
    "axes.plot(unstacked_df.index, unstacked_df['ltc']['eth'], label = 'LTC-ETH log returns correlation')\n",
    "\n",
    "# Legend, Y-axis labels and X-axis ticker formats\n",
    "axes.legend(loc='best')\n",
    "axes.xaxis.set_major_formatter(pltdates.DateFormatter('%m/%y'))"
   ]
  },
  {
   "cell_type": "code",
   "execution_count": null,
   "metadata": {},
   "outputs": [],
   "source": [
    "# Final answer: correlation analysis tells us that such a portfolio would have\n",
    "# been well differentiated in late August 2017 and in the second half of December 2017"
   ]
  }
 ],
 "metadata": {
  "kernelspec": {
   "display_name": "Python 3",
   "language": "python",
   "name": "python3"
  },
  "language_info": {
   "codemirror_mode": {
    "name": "ipython",
    "version": 3.0
   },
   "file_extension": ".py",
   "mimetype": "text/x-python",
   "name": "python",
   "nbconvert_exporter": "python",
   "pygments_lexer": "ipython3",
   "version": "3.5.2"
  }
 },
 "nbformat": 4,
 "nbformat_minor": 2
}