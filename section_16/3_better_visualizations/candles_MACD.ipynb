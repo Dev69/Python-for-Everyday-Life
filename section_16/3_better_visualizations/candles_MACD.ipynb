{
 "cells": [
  {
   "cell_type": "code",
   "execution_count": null,
   "metadata": {},
   "outputs": [],
   "source": [
    "import pandas as pd\n",
    "import pathlib\n",
    "import numpy as np\n",
    "from stockstats import StockDataFrame\n",
    "from bokeh.plotting import figure, show, output_notebook\n",
    "\n",
    "# This tells Jupyter not to autoreload code changes on the notebook from disk\n",
    "%load_ext autoreload\n",
    "%autoreload 0\n",
    "\n",
    "# this tells Bokeh not to autosave plots to files\n",
    "output_notebook()"
   ]
  },
  {
   "cell_type": "code",
   "execution_count": 80,
   "metadata": {},
   "outputs": [],
   "source": [
    "# Load data from CSV\n",
    "btc_csv = pathlib.Path('../datasets/BTC-USD.csv').absolute()\n",
    "btc = pd.read_csv(btc_csv, index_col=0, parse_dates=True)"
   ]
  },
  {
   "cell_type": "code",
   "execution_count": 83,
   "metadata": {},
   "outputs": [],
   "source": [
    "## PLOT: MACD with signal and histograms"
   ]
  },
  {
   "cell_type": "code",
   "execution_count": 82,
   "metadata": {},
   "outputs": [],
   "source": [
    "# create a StockDataFrame from the BTC dataframe...\n",
    "sdf = StockDataFrame.retype(btc)\n",
    "\n",
    "# ...then calculate MACD.\n",
    "# This will add 5 new columns to the original BTC dataframe:\n",
    "# 'macd', 'macds' (MACD signal line), 'macdh' (MACD histograms)\n",
    "# and the 12 and 26 days EMAs of BTC\n",
    "btc['macd'] = sdf['macd']"
   ]
  },
  {
   "cell_type": "code",
   "execution_count": 84,
   "metadata": {
    "scrolled": false
   },
   "outputs": [],
   "source": [
    "# Now plot MACD along with BTC close price\n",
    "\n",
    "fig_1 = figure(x_axis_type=\"datetime\",  plot_width=800, title='BTC-USD MACD')\n",
    "\n",
    "# BTC close price line\n",
    "fig_1.line(btc.index, btc.close, color='darkslategray', legend='BTC close price')\n",
    "\n",
    "# X-axis\n",
    "fig_1.line(btc.index, 0, color='black')\n",
    "\n",
    "# MACD\n",
    "fig_1.line(btc.index, btc.macd, color='mediumblue', legend='MACD')\n",
    "\n",
    "# MACD signal\n",
    "fig_1.line(btc.index, btc.macds, color='darkorange', legend='MACD signal')\n",
    "\n",
    "# MACD histograms\n",
    "fig_1.vbar(x=btc.index, # x-coord of bar centers\n",
    "           bottom=np.zeros(len(btc.index), dtype=int), # y-coords of the bottom edges\n",
    "           top=btc.macdh,              # height of bars\n",
    "           width= 12 * 60 * 60 * 1000, # bars width (half a day in milliseconds)\n",
    "           color=\"steelblue\",\n",
    "           legend='MACD histograms')\n",
    "\n",
    "fig_1.legend.location = \"top_left\"\n",
    "\n",
    "show(fig_1)"
   ]
  },
  {
   "cell_type": "code",
   "execution_count": null,
   "metadata": {},
   "outputs": [],
   "source": [
    "## PLOT: candlesticks on daily BTC price"
   ]
  },
  {
   "cell_type": "code",
   "execution_count": 74,
   "metadata": {},
   "outputs": [],
   "source": [
    "# restrict to a few days window\n",
    "BOX_START = '2017-12-01'\n",
    "BOX_END = '2018-02-01'\n",
    "btc_boxed = btc[BOX_START:BOX_END]"
   ]
  },
  {
   "cell_type": "code",
   "execution_count": 75,
   "metadata": {},
   "outputs": [],
   "source": [
    "# identify bullish and bearish candles \n",
    "# and store them in boolean Pandas Series\n",
    "bullish_candles = btc_boxed.close > btc_boxed.open\n",
    "bearish_candles = btc_boxed.open > btc_boxed.close"
   ]
  },
  {
   "cell_type": "code",
   "execution_count": null,
   "metadata": {},
   "outputs": [],
   "source": [
    "# plot candlesticks\n",
    "fig_2 = figure(x_axis_type=\"datetime\", plot_width=800, title='BTC-USD candlesticks')\n",
    "\n",
    "# A candle is composed by a segment and a bar\n",
    "\n",
    "# segments identify daily high-low prices      x0, y0, x1, y1\n",
    "fig_2.segment(btc_boxed.index,  # x-coords of segment start points\n",
    "              btc_boxed.high,   # y-coords of segment start points\n",
    "              btc_boxed.index,  # x-coords of segment end points\n",
    "              btc_boxed.low,    # y-coords of segment end points\n",
    "              color=\"darkslateblue\")\n",
    "\n",
    "# bars identify daily open-close prices...\n",
    "\n",
    "# ...bullish candles: coloured in green\n",
    "fig_2.vbar(btc_boxed.index[bullish_candles],  # x-coords of candles centers\n",
    "           12 * 60 * 60 * 1000,               # candlestick width (half day in ms)\n",
    "           btc_boxed.open[bullish_candles],   # height of candles\n",
    "           btc_boxed.close[bullish_candles],  # y-coords of bottom edges of candles\n",
    "           fill_color=\"yellowgreen\")\n",
    "\n",
    "# ...bearish candles: coloured in green\n",
    "fig_2.vbar(btc_boxed.index[bearish_candles],  # x-coords of candles centers\n",
    "           12 * 60 * 60 * 1000,               # candlestick width (half day in ms)\n",
    "           btc_boxed.open[bearish_candles],   # height of candles\n",
    "           btc_boxed.close[bearish_candles],  # y-coords of bottom edges of candles\n",
    "           fill_color=\"tomato\")\n",
    "\n",
    "# also plot BTC close price\n",
    "fig_2.line(btc_boxed.index, btc_boxed.close,\n",
    "           line_width=2,\n",
    "           color='darkslategray',\n",
    "           legend='BTC close price')\n",
    "\n",
    "fig_2.legend.location = \"top_left\"\n",
    "fig_2.legend.click_policy = \"hide\"\n",
    "\n",
    "show(fig_2)"
   ]
  }
 ],
 "metadata": {
  "kernelspec": {
   "display_name": "Python 3",
   "language": "python",
   "name": "python3"
  },
  "language_info": {
   "codemirror_mode": {
    "name": "ipython",
    "version": 3
   },
   "file_extension": ".py",
   "mimetype": "text/x-python",
   "name": "python",
   "nbconvert_exporter": "python",
   "pygments_lexer": "ipython3",
   "version": "3.5.2"
  }
 },
 "nbformat": 4,
 "nbformat_minor": 2
}
