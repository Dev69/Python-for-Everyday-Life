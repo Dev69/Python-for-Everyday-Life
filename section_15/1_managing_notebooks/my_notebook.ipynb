{
 "cells": [
  {
   "cell_type": "code",
   "execution_count": null,
   "metadata": {
    "collapsed": true
   },
   "outputs": [],
   "source": [
    "print('Printing something...')\n",
    "import this"
   ]
  },
  {
   "cell_type": "code",
   "execution_count": null,
   "metadata": {},
   "outputs": [],
   "source": [
    "def abs_value(number):\n",
    "    if number >= 0.:\n",
    "        return number\n",
    "    return -number\n",
    "print(abs_value(123))\n",
    "print(abs_value(-456))"
   ]
  },
  {
   "cell_type": "code",
   "execution_count": null,
   "metadata": {},
   "outputs": [],
   "source": [
    "abs_value(123)\n",
    "abs_value(-456)"
   ]
  },
  {
   "cell_type": "code",
   "execution_count": null,
   "metadata": {},
   "outputs": [],
   "source": [
    "# Hello\n",
    "## I am a Markdown\n",
    "### cell\n",
    "\n",
    "I love:\n",
    "  - lists\n",
    "  - some `embdedded code`\n",
    "  - and why not? some maths in LaTeX (eg: $e^x=\\sum_{i=0}^\\infty \\frac{1}{i!}x^i$) "
   ]
  }
 ],
 "metadata": {
  "kernelspec": {
   "display_name": "Python 2",
   "language": "python",
   "name": "python2"
  },
  "language_info": {
   "codemirror_mode": {
    "name": "ipython",
    "version": 2
   },
   "file_extension": ".py",
   "mimetype": "text/x-python",
   "name": "python",
   "nbconvert_exporter": "python",
   "pygments_lexer": "ipython2",
   "version": "2.7.6"
  }
 },
 "nbformat": 4,
 "nbformat_minor": 0
}
