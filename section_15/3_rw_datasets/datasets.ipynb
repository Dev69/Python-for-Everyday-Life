{
 "cells": [
  {
   "cell_type": "code",
   "execution_count": 6,
   "metadata": {},
   "outputs": [],
   "source": [
    "import pathlib\n",
    "import sqlite3\n",
    "import pandas as pd\n",
    "import pandas_datareader.data as pdr\n",
    "from datetime import datetime as dt"
   ]
  },
  {
   "cell_type": "code",
   "execution_count": 7,
   "metadata": {},
   "outputs": [],
   "source": [
    "## IMPORT LOCAL CSV DATA"
   ]
  },
  {
   "cell_type": "code",
   "execution_count": 8,
   "metadata": {},
   "outputs": [],
   "source": [
    "iris_csv = pathlib.Path('../datasets/iris.csv').absolute()"
   ]
  },
  {
   "cell_type": "code",
   "execution_count": 9,
   "metadata": {},
   "outputs": [],
   "source": [
    "df = pd.read_csv(iris_csv)\n",
    "df.head()"
   ]
  },
  {
   "cell_type": "code",
   "execution_count": 5,
   "metadata": {},
   "outputs": [],
   "source": [
    "# count class frequency\n",
    "iris_classes = df.groupby('class')\n",
    "iris_classes.size()"
   ]
  },
  {
   "cell_type": "code",
   "execution_count": null,
   "metadata": {},
   "outputs": [],
   "source": [
    "# get all stats per class\n",
    "iris_classes.describe()"
   ]
  },
  {
   "cell_type": "code",
   "execution_count": null,
   "metadata": {},
   "outputs": [],
   "source": [
    "# Now remove all rows having sepal_width_cm < 3.0\n",
    "df = df[df.sepal_width_cm > 3.0]"
   ]
  },
  {
   "cell_type": "code",
   "execution_count": null,
   "metadata": {},
   "outputs": [],
   "source": [
    "## EXPORT TO LOCAL FILES"
   ]
  },
  {
   "cell_type": "code",
   "execution_count": null,
   "metadata": {},
   "outputs": [],
   "source": [
    "# csv\n",
    "target_csv = pathlib.Path('output.csv')\n",
    "df.to_csv(target_csv)"
   ]
  },
  {
   "cell_type": "code",
   "execution_count": null,
   "metadata": {},
   "outputs": [],
   "source": [
    "# json\n",
    "target_json = pathlib.Path('output.json')\n",
    "with target_json.open('w') as f:\n",
    "    f.write(df.to_json())"
   ]
  },
  {
   "cell_type": "code",
   "execution_count": null,
   "metadata": {},
   "outputs": [],
   "source": [
    "# SQLite database: dump the Dataframe to a new DB table\n",
    "db = 'db.sqlite3'\n",
    "table_name = 'Iris'\n",
    "with sqlite3.connect(db) as conn:\n",
    "    df.to_sql(table_name, conn, if_exists=\"append\")"
   ]
  },
  {
   "cell_type": "code",
   "execution_count": null,
   "metadata": {},
   "outputs": [],
   "source": [
    "# now let's check that the table has been created\n",
    "with sqlite3.connect(str(db)) as conn:\n",
    "    cursor = conn.cursor()\n",
    "    cursor.execute('SELECT * FROM {}'.format(table_name))\n",
    "    print(cursor.fetchall())"
   ]
  },
  {
   "cell_type": "code",
   "execution_count": null,
   "metadata": {},
   "outputs": [],
   "source": [
    "## IMPORT DIRTY DATASETS (eg. with missing fields)"
   ]
  },
  {
   "cell_type": "code",
   "execution_count": null,
   "metadata": {},
   "outputs": [],
   "source": [
    "dirty_iris_csv = pathlib.Path('../datasets/dirty_iris.csv').absolute()\n",
    "dirty_df = pd.read_csv(dirty_iris_csv, na_values=[''])\n",
    "dirty_df.head(10)"
   ]
  },
  {
   "cell_type": "code",
   "execution_count": null,
   "metadata": {},
   "outputs": [],
   "source": [
    "# show missing data\n",
    "pd.isnull(dirty_df)"
   ]
  },
  {
   "cell_type": "code",
   "execution_count": null,
   "metadata": {},
   "outputs": [],
   "source": [
    "## IMPORT DATA FROM THE WEB"
   ]
  },
  {
   "cell_type": "code",
   "execution_count": null,
   "metadata": {},
   "outputs": [],
   "source": [
    "# Import Apple stock's ticker data from Morningstar, in a date range\n",
    "start = dt(2018, 1, 1)\n",
    "end = dt(2018, 2, 28)\n",
    "aapl = pdr.DataReader('AAPL', 'morningstar', start, end)\n",
    "aapl.head()"
   ]
  }
 ],
 "metadata": {
  "kernelspec": {
   "display_name": "Python 3",
   "language": "python",
   "name": "python3"
  },
  "language_info": {
   "codemirror_mode": {
    "name": "ipython",
    "version": 3.0
   },
   "file_extension": ".py",
   "mimetype": "text/x-python",
   "name": "python",
   "nbconvert_exporter": "python",
   "pygments_lexer": "ipython3",
   "version": "3.5.2"
  }
 },
 "nbformat": 4,
 "nbformat_minor": 1
}